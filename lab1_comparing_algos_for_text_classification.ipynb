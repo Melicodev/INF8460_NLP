{
 "cells": [
  {
   "cell_type": "markdown",
   "id": "417a4c65",
   "metadata": {},
   "source": [
    "# INF8460: Traitement automatique de la langue naturelle\n",
    "\n",
    "# TP1: Comparaison d'algorithmes pour classification de texte"
   ]
  },
  {
   "cell_type": "markdown",
   "id": "dc062396",
   "metadata": {},
   "source": [
    "## Identification de l'équipe:\n",
    "\n",
    "### Groupe de laboratoire: \n",
    "\n",
    "### Equipe numéro : \n",
    "\n",
    "### Membres: \n",
    "\n",
    "- membre 1 (% de contribution, nature de la contribution)\n",
    "- membre 2 (% de contribution, nature de la contribution)\n",
    "- membre 3 (% de contribution, nature de la contribution)\n",
    "\n",
    "* nature de la contribution: Décrivez brièvement ce qui a été fait par chaque membre de l’équipe. Tous les membres sont censés contribuer au développement. Bien que chaque membre puisse effectuer différentes tâches, vous devez vous efforcer d’obtenir une répartition égale du travail. "
   ]
  },
  {
   "cell_type": "markdown",
   "id": "b3dacaae",
   "metadata": {},
   "source": [
    "\n",
    "## Description:\n",
    "\n",
    "Dans ce premier TP, vous explorerez les bases du traitement automatique du langage naturel. Au cours de ce travail, vous appliquerez concrètement les concepts enseignés en classe pour résoudre une tâche de classification simple. De plus, le processus ressemblera à la manière dont vous aborderiez ce type de problème dans le monde réel. Tout au long de ce laboratoire, vous vous familiariserez avec des bibliothèques couramment utilisées en NLP ainsi qu'en science des données.\n",
    "\n",
    "Dans ce laboratoire, vous travaillerez avec un jeu de données comprenant des évaluations de produits provenant d'Amazon. Pour chaque évaluation, le jeu de données contient trois informations : le titre fourni par l'utilisateur, le commentaire détaillé et le nombre d'étoiles attribué par l'utilisateur au produit.\n",
    "\n",
    "L'objectif de cette tâche consistera à prédire le nombre d'étoiles attribué à une évaluation à partir du commentaire et du titre qui lui sont associés.\n",
    "\n",
    "Le travail sera divisé en 3 parties:\n",
    "\n",
    "    - Chargement, prétraitement et visualisation des données: Dans cette première partie, vous allez charger et prétraiter les données afin qu'elles soient prêtes à être utilisées par les algorithmes lors de la deuxième partie.\n",
    "    - Classification: Cette partie consistera à explorer les différents algorithmes pouvant être appliqués à cette tâche. Vous ferez aussi une analyse des sorties du classificateur bayésien naïf.\n",
    "    - Amélioration de modèle: Cette dernière partie consistera à améliorer votre modèle de 2 façons différentes. D'abord, vous ferez une recherche d'hyper-paramètres avec de la validation croisée en utilisant un GridSearch. Ensuite, vous ferez de l'extraction d'attributs avec l'aide de ChatGPT afin de d'entrainer un nouveau modèle et de comparer ainsi une représentation de type \"Bag of words\" et une représentation avec attributs spécifiques. \n",
    "\n",
    "\n"
   ]
  },
  {
   "cell_type": "markdown",
   "id": "1e96c2d5",
   "metadata": {},
   "source": [
    "## 1. Chargement, prétraitement et visualisation des données\n",
    "\n",
    "Dans cette première partie, vous allez charger et prétraiter les données afin qu'elles soient prêtes à être utilisées par les algorithmes lors de la deuxième partie.\n",
    "\n",
    "\n",
    "### 1.1 Charger les données\n",
    "\n",
    "Ce numéro doit être résolu en utilisant la bibliothèque **pandas**.\n",
    "\n",
    "#### 1.1.1 Charger le jeu de données \n",
    "\n",
    "Chargez le jeu de données amazon_rating.csv. Affichez ensuite son contenu.\n"
   ]
  },
  {
   "cell_type": "code",
   "execution_count": 1,
   "id": "3ccc645c",
   "metadata": {},
   "outputs": [],
   "source": [
    "import pandas as pd\n",
    "import numpy as np"
   ]
  },
  {
   "cell_type": "code",
   "execution_count": 2,
   "id": "7164ebbe",
   "metadata": {},
   "outputs": [],
   "source": [
    "data = pd.read_csv(\"amazon_rating.csv\")"
   ]
  },
  {
   "cell_type": "code",
   "execution_count": 3,
   "id": "88767fe4",
   "metadata": {
    "scrolled": true
   },
   "outputs": [
    {
     "data": {
      "text/html": [
       "<div>\n",
       "<style scoped>\n",
       "    .dataframe tbody tr th:only-of-type {\n",
       "        vertical-align: middle;\n",
       "    }\n",
       "\n",
       "    .dataframe tbody tr th {\n",
       "        vertical-align: top;\n",
       "    }\n",
       "\n",
       "    .dataframe thead th {\n",
       "        text-align: right;\n",
       "    }\n",
       "</style>\n",
       "<table border=\"1\" class=\"dataframe\">\n",
       "  <thead>\n",
       "    <tr style=\"text-align: right;\">\n",
       "      <th></th>\n",
       "      <th>title</th>\n",
       "      <th>text</th>\n",
       "      <th>rating</th>\n",
       "    </tr>\n",
       "  </thead>\n",
       "  <tbody>\n",
       "    <tr>\n",
       "      <th>0</th>\n",
       "      <td>Five Stars</td>\n",
       "      <td>good as any name brand</td>\n",
       "      <td>5</td>\n",
       "    </tr>\n",
       "    <tr>\n",
       "      <th>1</th>\n",
       "      <td>Did The Job</td>\n",
       "      <td>Ordered on accident when I had searched for RE...</td>\n",
       "      <td>3</td>\n",
       "    </tr>\n",
       "    <tr>\n",
       "      <th>2</th>\n",
       "      <td>Great product</td>\n",
       "      <td>I was looking for something to read on and thi...</td>\n",
       "      <td>5</td>\n",
       "    </tr>\n",
       "    <tr>\n",
       "      <th>3</th>\n",
       "      <td>Leaking Acid EVERYEWHERE!!</td>\n",
       "      <td>After 2nd recharge and use all but 3 are leaki...</td>\n",
       "      <td>1</td>\n",
       "    </tr>\n",
       "    <tr>\n",
       "      <th>4</th>\n",
       "      <td>One Star</td>\n",
       "      <td>They fail earlier than brand names. I assumed ...</td>\n",
       "      <td>1</td>\n",
       "    </tr>\n",
       "    <tr>\n",
       "      <th>...</th>\n",
       "      <td>...</td>\n",
       "      <td>...</td>\n",
       "      <td>...</td>\n",
       "    </tr>\n",
       "    <tr>\n",
       "      <th>2788</th>\n",
       "      <td>Three Stars</td>\n",
       "      <td>Weird but some didn't last long as they should</td>\n",
       "      <td>3</td>\n",
       "    </tr>\n",
       "    <tr>\n",
       "      <th>2789</th>\n",
       "      <td>Good for kids but SLOW</td>\n",
       "      <td>A good starter tablet, but very very slow. Don...</td>\n",
       "      <td>3</td>\n",
       "    </tr>\n",
       "    <tr>\n",
       "      <th>2790</th>\n",
       "      <td>good tablet to star</td>\n",
       "      <td>is a God tablet but the camera could be a litt...</td>\n",
       "      <td>3</td>\n",
       "    </tr>\n",
       "    <tr>\n",
       "      <th>2791</th>\n",
       "      <td>Just decent tablet</td>\n",
       "      <td>Not many apps. The first one was already retur...</td>\n",
       "      <td>3</td>\n",
       "    </tr>\n",
       "    <tr>\n",
       "      <th>2792</th>\n",
       "      <td>One Star</td>\n",
       "      <td>don't last long. Replace batteries in my clock...</td>\n",
       "      <td>1</td>\n",
       "    </tr>\n",
       "  </tbody>\n",
       "</table>\n",
       "<p>2793 rows × 3 columns</p>\n",
       "</div>"
      ],
      "text/plain": [
       "                           title  \\\n",
       "0                     Five Stars   \n",
       "1                    Did The Job   \n",
       "2                  Great product   \n",
       "3     Leaking Acid EVERYEWHERE!!   \n",
       "4                       One Star   \n",
       "...                          ...   \n",
       "2788                 Three Stars   \n",
       "2789      Good for kids but SLOW   \n",
       "2790         good tablet to star   \n",
       "2791          Just decent tablet   \n",
       "2792                    One Star   \n",
       "\n",
       "                                                   text  rating  \n",
       "0                                good as any name brand       5  \n",
       "1     Ordered on accident when I had searched for RE...       3  \n",
       "2     I was looking for something to read on and thi...       5  \n",
       "3     After 2nd recharge and use all but 3 are leaki...       1  \n",
       "4     They fail earlier than brand names. I assumed ...       1  \n",
       "...                                                 ...     ...  \n",
       "2788     Weird but some didn't last long as they should       3  \n",
       "2789  A good starter tablet, but very very slow. Don...       3  \n",
       "2790  is a God tablet but the camera could be a litt...       3  \n",
       "2791  Not many apps. The first one was already retur...       3  \n",
       "2792  don't last long. Replace batteries in my clock...       1  \n",
       "\n",
       "[2793 rows x 3 columns]"
      ]
     },
     "execution_count": 3,
     "metadata": {},
     "output_type": "execute_result"
    }
   ],
   "source": [
    "data"
   ]
  },
  {
   "cell_type": "markdown",
   "id": "aadd4f88",
   "metadata": {},
   "source": [
    "#### 1.1.2 Fusionner les colonnes title et text en une seule colonne\n",
    "\n",
    "Afin de faciliter la tâche pour le reste du TP, nous allons fusionner ces deux colonnes afin que nous n'ayons qu'un seul texte à considérer lors de la vectorisation.\n",
    "\n",
    "Afin de s'assurer de l'intégrité des textes, fusionnez-les à l'aide d'un espace. Par exemple, une évaluation ayant le titre \"Five Stars\" et le commentaire \"good as any name brand\" aura comme texte final \"Five Stars good as any name brand\".\n",
    "\n",
    "Stockez le résultat dans la colonne \"text\" et supprimez la colonne \"title\"."
   ]
  },
  {
   "cell_type": "code",
   "execution_count": 4,
   "id": "b5b627c4",
   "metadata": {},
   "outputs": [],
   "source": [
    "data.text = data.title + \". \" + data.text "
   ]
  },
  {
   "cell_type": "markdown",
   "id": "6fbcbf38",
   "metadata": {},
   "source": [
    "### 1.2 Prétraitement des données\n",
    "\n",
    "En utilisant la librairie nltk, implémentez la fonction suivante qui :\n",
    "\n",
    "- Enlève les majuscules.\n",
    "- Enlève les caractères de ponctuation.\n",
    "- Segmente la séquence en entrée en une liste de jetons (tokenization).\n",
    "- Enlève les \"stopwords\"\n",
    "- Effectue la racinisation.\n",
    "- Retourne l'ensemble des jetons de la séquence\n",
    "    "
   ]
  },
  {
   "cell_type": "code",
   "execution_count": 41,
   "id": "d51e35a2",
   "metadata": {},
   "outputs": [],
   "source": [
    "import nltk\n",
    "from nltk.corpus import stopwords\n",
    "from nltk.tokenize import word_tokenize\n",
    "import string\n",
    "import re\n",
    "\n",
    "stopwords = stopwords.words('english')\n",
    "stemmer = nltk.stem.porter.PorterStemmer()\n",
    "#lemmer = nltk.stem.wordnet.WordNetLemmatizer()\n",
    "\n",
    "\n",
    "def preprocess(sentence):\n",
    "    \"\"\"\n",
    "    Fonction qui transforme une chaine de caractère en liste de jetons.\n",
    "    Les pre-traitements à implémenter sont: \n",
    "    1. Enlever les majuscules\n",
    "    2. Enlever les caractères de ponctuations\n",
    "    3. Séparer la chaine de caractères en une liste de jetons (tokenization) \n",
    "    4. Enlever les stopwords\n",
    "    5. Stemming (racinisation)\n",
    "    \n",
    "    :param sentence: une chaine de caractère\n",
    "    :return: la liste de jetons\n",
    "    \"\"\" \n",
    "    sentence = sentence.lower()\n",
    "    sentence = re.sub(r'[^\\w\\s]', ' ', sentence)\n",
    "    tokens = word_tokenize(sentence)\n",
    "    tokens = [token for token in tokens if token not in stopwords]\n",
    "    \n",
    "    tokens = [stemmer.stem(token) for token in tokens]\n",
    "    \n",
    "    return tokens"
   ]
  },
  {
   "cell_type": "code",
   "execution_count": 6,
   "id": "ea36a64b",
   "metadata": {},
   "outputs": [],
   "source": [
    "\"\"\"\n",
    "NE PAS MODIFIER\n",
    "\n",
    "Le code suivant appliquera votre fonction sur tous les exemples. Il gardera aussi une version originale pour une analyse future.\n",
    "\"\"\"\n",
    "\n",
    "data[\"text_original\"] = data[\"text\"]\n",
    "data[\"text\"] = data[\"text\"].apply(preprocess)\n"
   ]
  },
  {
   "cell_type": "markdown",
   "id": "a1c0e19b",
   "metadata": {},
   "source": [
    "### 1.3 Visualisation des données\n",
    "\n",
    "**Utilisez la bibliothèque matplotlib pour les graphiques.** Vous pouvez utiliser n'importe quelle classe de base de Python, par exemple collections.Counter, qui sera utile pour l'affichage des jetons."
   ]
  },
  {
   "cell_type": "markdown",
   "id": "731d61c8",
   "metadata": {},
   "source": [
    "La colonne \"rating\" contient le nombre d'étoiles associé l'évaluation d'un utilisateur. Le nombre d'étoiles varie entre 1 et 5.\n",
    "\n",
    "Afin de simplifier la tâche de classification, nous avons enlevé les commentaires ayant 2 et 4 étoiles du jeu de données. Cela signifie qu'il y a trois catégories de commentaires, c'est-à-dire ceux ayant 1, 3 ou 5 étoiles.\n",
    "\n",
    "Affichez dans un graphique :\n",
    "\n",
    "- Le nombre d'exemples présents dans le jeu de données par catégorie.\n",
    "- La quantité moyenne de jetons par exemple selon la catégorie.\n"
   ]
  },
  {
   "cell_type": "markdown",
   "id": "6e870b33",
   "metadata": {},
   "source": [
    "#### 1.3.1  Afficher dans un graphique le nombre d'exemples présents dans le jeu de données pour chaque catégorie"
   ]
  },
  {
   "cell_type": "code",
   "execution_count": 7,
   "id": "239b4dfa",
   "metadata": {
    "scrolled": true
   },
   "outputs": [
    {
     "data": {
      "image/png": "[encoded data removed]",
      "text/plain": [
       "<Figure size 640x480 with 1 Axes>"
      ]
     },
     "metadata": {},
     "output_type": "display_data"
    }
   ],
   "source": [
    "import matplotlib.pyplot as plt\n",
    "\n",
    "data[\"n_tokens\"] = data[\"text\"].apply(len)\n",
    "count = data[[\"rating\", \"n_tokens\"]].groupby(\"rating\").count()\n",
    "count\n",
    "\n",
    "fig, ax = plt.subplots()\n",
    "ax.barh(count.index.tolist(), count.n_tokens.tolist())\n",
    "plt.title(\"Nombre de données par Rating\")\n",
    "plt.xlabel(\"Rating\")\n",
    "plt.ylabel(\"Nombre d'exemple\")\n",
    "plt.show()"
   ]
  },
  {
   "cell_type": "markdown",
   "id": "c244aa72",
   "metadata": {},
   "source": [
    "#### 1.3.2 Afficher dans un graphique la quantité moyenne de jetons par exemple selon la catégorie"
   ]
  },
  {
   "cell_type": "code",
   "execution_count": 8,
   "id": "663f798a",
   "metadata": {
    "scrolled": true
   },
   "outputs": [
    {
     "data": {
      "image/png": "[encoded data removed]",
      "text/plain": [
       "<Figure size 640x480 with 1 Axes>"
      ]
     },
     "metadata": {},
     "output_type": "display_data"
    }
   ],
   "source": [
    "count = data[[\"rating\", \"n_tokens\"]].groupby(\"rating\").mean()\n",
    "count\n",
    "\n",
    "fig, ax = plt.subplots()\n",
    "ax.barh(count.index.tolist(), count.n_tokens.tolist())\n",
    "plt.title(\"Longeur moyenne des commentaires par catégorie\")\n",
    "plt.xlabel(\"Rating\")\n",
    "plt.ylabel(\"Longeur moyenne des commentaires\")\n",
    "plt.show()"
   ]
  },
  {
   "cell_type": "markdown",
   "id": "e6650c0f",
   "metadata": {},
   "source": [
    "#### 1.3.3 Afficher en texte les top 10 jetons les plus fréquents par catégorie."
   ]
  },
  {
   "cell_type": "markdown",
   "id": "86ff8a3f",
   "metadata": {},
   "source": [
    "\n",
    "Affichez en texte les 10 jetons les plus fréquents selon la catégorie.\n"
   ]
  },
  {
   "cell_type": "code",
   "execution_count": 9,
   "id": "0befd5a8",
   "metadata": {},
   "outputs": [
    {
     "name": "stdout",
     "output_type": "stream",
     "text": [
      "Top Vocab for rating 5: \n",
      "\tgreat: 618\n",
      "\ttablet: 393\n",
      "\tbatteri: 382\n",
      "\tlove: 307\n",
      "\tgood: 261\n",
      "\tprice: 248\n",
      "\tuse: 212\n",
      "\tstar: 182\n",
      "\tfive: 181\n",
      "\twork: 168\n",
      "Top Vocab for rating 3: \n",
      "\tbatteri: 459\n",
      "\ttablet: 380\n",
      "\tgood: 363\n",
      "\tuse: 247\n",
      "\tlast: 242\n",
      "\tprice: 231\n",
      "\tgreat: 230\n",
      "\tthree: 193\n",
      "\tlong: 189\n",
      "\tstar: 186\n",
      "Top Vocab for rating 1: \n",
      "\tbatteri: 1224\n",
      "\tlast: 406\n",
      "\tone: 346\n",
      "\tuse: 330\n",
      "\tamazon: 324\n",
      "\twork: 269\n",
      "\tbuy: 236\n",
      "\tstar: 181\n",
      "\tpurchas: 163\n",
      "\tweek: 160\n"
     ]
    }
   ],
   "source": [
    "from collections import Counter\n",
    "\n",
    "\n",
    "def print_most_commons(data, column):\n",
    "    for i in data.rating.unique():\n",
    "        top_vocab = Counter([x  for y in data[data.rating == i][column].tolist() for x in y])\n",
    "        keys, n = list(zip(*top_vocab.most_common(20)))\n",
    "        print(f\"Top Vocab for rating {i}: \")\n",
    "        for j in range(10):\n",
    "            print(f\"\\t{keys[j]}: {n[j]}\")\n",
    "\n",
    "print_most_commons(data, \"text\")\n",
    "            \n"
   ]
  },
  {
   "cell_type": "markdown",
   "id": "bafb388a",
   "metadata": {},
   "source": [
    "#### 1.3.4 Afficher en texte les top 10 adjectifs les plus fréquents selon la catégorie. \n",
    "\n",
    "Pour cet exercice, vous devrez utiliser la fonction [nltk.pos_tag](https://www.nltk.org/book/ch05.html) et retenir les jetons identifiés comme JJ.\n",
    " \n",
    "Pour obtenir de bons résultats, le tagger [nltk.pos_tag](https://www.nltk.org/book/ch05.html) doit être exécuté sur le texte original, incluant les stopwords. \n",
    "Vous devrez donc partir des évaluations originales. Pour vous simplifier la tâche, utilisez \n",
    "le tokenizer *word_tokenize* provenant de nltk.\n",
    "\n",
    "**Les adjectifs sont les jetons identifiés comme JJ.**"
   ]
  },
  {
   "cell_type": "code",
   "execution_count": 11,
   "id": "bc15ac5f",
   "metadata": {},
   "outputs": [
    {
     "name": "stdout",
     "output_type": "stream",
     "text": [
      "Top Vocab for rating 5: \n",
      "\tgreat: 260\n",
      "\tgood: 175\n",
      "\told: 90\n",
      "\teasy: 83\n",
      "\tGood: 75\n",
      "\tother: 64\n",
      "\tlast: 58\n",
      "\tGreat: 52\n",
      "\tExcellent: 37\n",
      "\tlong: 36\n",
      "Top Vocab for rating 3: \n",
      "\tgood: 239\n",
      "\tlast: 201\n",
      "\tgreat: 132\n",
      "\tGood: 110\n",
      "\tother: 82\n",
      "\told: 63\n",
      "\tlittle: 62\n",
      "\tslow: 56\n",
      "\tok: 49\n",
      "\tlong: 45\n",
      "Top Vocab for rating 1: \n",
      "\tlast: 259\n",
      "\tgood: 102\n",
      "\tdead: 96\n",
      "\tother: 83\n",
      "\tfew: 72\n",
      "\tsame: 66\n",
      "\tbad: 65\n",
      "\tnew: 62\n",
      "\tfirst: 53\n",
      "\tlong: 46\n"
     ]
    }
   ],
   "source": [
    "from nltk.tokenize import word_tokenize\n",
    "\n",
    "\n",
    "def get_tokens(x):\n",
    "    tokens = nltk.pos_tag(word_tokenize(x))\n",
    "    filtered_tokens = list(filter(lambda token: token[1] in [\"JJ\"], tokens))\n",
    "    \n",
    "    return list(map(lambda x: x[0], filtered_tokens))\n",
    "\n",
    "data[\"adjectives\"] = data[\"text_original\"].apply(get_tokens)\n",
    "\n",
    "print_most_commons(data, \"adjectives\")\n",
    "        \n",
    "data = data.drop(columns=\"adjectives\")"
   ]
  },
  {
   "cell_type": "markdown",
   "id": "86de4b1e",
   "metadata": {},
   "source": [
    "### 1.4 Diviser les données en ensembles d'entraînement et de test. \n",
    "\n",
    "À l'aide de la fonction [train_test_split](https://scikit-learn.org/stable/modules/generated/sklearn.model_selection.train_test_split.html) de SKlearn, séparez les données en ensembles d'entraînement (67% des données) et de test (33% des données). Gardez les deux ensembles dans 2 variables."
   ]
  },
  {
   "cell_type": "code",
   "execution_count": 12,
   "id": "0e5a58bc",
   "metadata": {},
   "outputs": [],
   "source": [
    "from sklearn.model_selection import train_test_split\n",
    "\n",
    "\n",
    "train, test = train_test_split(data, test_size=0.33, random_state=42)\n"
   ]
  },
  {
   "cell_type": "code",
   "execution_count": 13,
   "id": "4acdf4f4",
   "metadata": {},
   "outputs": [
    {
     "data": {
      "text/html": [
       "<div>\n",
       "<style scoped>\n",
       "    .dataframe tbody tr th:only-of-type {\n",
       "        vertical-align: middle;\n",
       "    }\n",
       "\n",
       "    .dataframe tbody tr th {\n",
       "        vertical-align: top;\n",
       "    }\n",
       "\n",
       "    .dataframe thead th {\n",
       "        text-align: right;\n",
       "    }\n",
       "</style>\n",
       "<table border=\"1\" class=\"dataframe\">\n",
       "  <thead>\n",
       "    <tr style=\"text-align: right;\">\n",
       "      <th></th>\n",
       "      <th>title</th>\n",
       "      <th>text</th>\n",
       "      <th>rating</th>\n",
       "      <th>text_original</th>\n",
       "      <th>n_tokens</th>\n",
       "    </tr>\n",
       "  </thead>\n",
       "  <tbody>\n",
       "    <tr>\n",
       "      <th>2788</th>\n",
       "      <td>Three Stars</td>\n",
       "      <td>[three, star, weird, last, long]</td>\n",
       "      <td>3</td>\n",
       "      <td>Three Stars. Weird but some didn't last long a...</td>\n",
       "      <td>5</td>\n",
       "    </tr>\n",
       "    <tr>\n",
       "      <th>2353</th>\n",
       "      <td>Great first tab</td>\n",
       "      <td>[great, first, tab, great, first, tab, game, p...</td>\n",
       "      <td>5</td>\n",
       "      <td>Great first tab. Great first tab for game play...</td>\n",
       "      <td>17</td>\n",
       "    </tr>\n",
       "    <tr>\n",
       "      <th>718</th>\n",
       "      <td>Three Stars</td>\n",
       "      <td>[three, star, batteri]</td>\n",
       "      <td>3</td>\n",
       "      <td>Three Stars. They're batteries.</td>\n",
       "      <td>3</td>\n",
       "    </tr>\n",
       "    <tr>\n",
       "      <th>366</th>\n",
       "      <td>Good Batteries, Better Deal</td>\n",
       "      <td>[good, batteri, better, deal, expect, less, pe...</td>\n",
       "      <td>5</td>\n",
       "      <td>Good Batteries, Better Deal. I was expecting l...</td>\n",
       "      <td>15</td>\n",
       "    </tr>\n",
       "    <tr>\n",
       "      <th>2190</th>\n",
       "      <td>they worked fine - I think these just don't la...</td>\n",
       "      <td>[work, fine, think, last, almost, review, righ...</td>\n",
       "      <td>3</td>\n",
       "      <td>they worked fine - I think these just don't la...</td>\n",
       "      <td>48</td>\n",
       "    </tr>\n",
       "    <tr>\n",
       "      <th>...</th>\n",
       "      <td>...</td>\n",
       "      <td>...</td>\n",
       "      <td>...</td>\n",
       "      <td>...</td>\n",
       "      <td>...</td>\n",
       "    </tr>\n",
       "    <tr>\n",
       "      <th>1638</th>\n",
       "      <td>Almost</td>\n",
       "      <td>[almost, bought, daughter, bundl, solid, bumpe...</td>\n",
       "      <td>3</td>\n",
       "      <td>Almost. I bought this for my daughter. It was ...</td>\n",
       "      <td>19</td>\n",
       "    </tr>\n",
       "    <tr>\n",
       "      <th>1095</th>\n",
       "      <td>Three Stars</td>\n",
       "      <td>[three, star, hold, charg]</td>\n",
       "      <td>3</td>\n",
       "      <td>Three Stars. They hold there charge!</td>\n",
       "      <td>4</td>\n",
       "    </tr>\n",
       "    <tr>\n",
       "      <th>1130</th>\n",
       "      <td>Three Stars</td>\n",
       "      <td>[three, star, goog]</td>\n",
       "      <td>3</td>\n",
       "      <td>Three Stars. Goog</td>\n",
       "      <td>3</td>\n",
       "    </tr>\n",
       "    <tr>\n",
       "      <th>1294</th>\n",
       "      <td>A great deal, and the batteries have a good li...</td>\n",
       "      <td>[great, deal, batteri, good, life, great, deal...</td>\n",
       "      <td>5</td>\n",
       "      <td>A great deal, and the batteries have a good li...</td>\n",
       "      <td>14</td>\n",
       "    </tr>\n",
       "    <tr>\n",
       "      <th>860</th>\n",
       "      <td>the car run just fine. I'm going to return thi...</td>\n",
       "      <td>[car, run, fine, go, return, open, packag, tod...</td>\n",
       "      <td>1</td>\n",
       "      <td>the car run just fine. I'm going to return thi...</td>\n",
       "      <td>29</td>\n",
       "    </tr>\n",
       "  </tbody>\n",
       "</table>\n",
       "<p>1871 rows × 5 columns</p>\n",
       "</div>"
      ],
      "text/plain": [
       "                                                  title  \\\n",
       "2788                                        Three Stars   \n",
       "2353                                    Great first tab   \n",
       "718                                         Three Stars   \n",
       "366                         Good Batteries, Better Deal   \n",
       "2190  they worked fine - I think these just don't la...   \n",
       "...                                                 ...   \n",
       "1638                                             Almost   \n",
       "1095                                        Three Stars   \n",
       "1130                                        Three Stars   \n",
       "1294  A great deal, and the batteries have a good li...   \n",
       "860   the car run just fine. I'm going to return thi...   \n",
       "\n",
       "                                                   text  rating  \\\n",
       "2788                   [three, star, weird, last, long]       3   \n",
       "2353  [great, first, tab, great, first, tab, game, p...       5   \n",
       "718                              [three, star, batteri]       3   \n",
       "366   [good, batteri, better, deal, expect, less, pe...       5   \n",
       "2190  [work, fine, think, last, almost, review, righ...       3   \n",
       "...                                                 ...     ...   \n",
       "1638  [almost, bought, daughter, bundl, solid, bumpe...       3   \n",
       "1095                         [three, star, hold, charg]       3   \n",
       "1130                                [three, star, goog]       3   \n",
       "1294  [great, deal, batteri, good, life, great, deal...       5   \n",
       "860   [car, run, fine, go, return, open, packag, tod...       1   \n",
       "\n",
       "                                          text_original  n_tokens  \n",
       "2788  Three Stars. Weird but some didn't last long a...         5  \n",
       "2353  Great first tab. Great first tab for game play...        17  \n",
       "718                     Three Stars. They're batteries.         3  \n",
       "366   Good Batteries, Better Deal. I was expecting l...        15  \n",
       "2190  they worked fine - I think these just don't la...        48  \n",
       "...                                                 ...       ...  \n",
       "1638  Almost. I bought this for my daughter. It was ...        19  \n",
       "1095               Three Stars. They hold there charge!         4  \n",
       "1130                                  Three Stars. Goog         3  \n",
       "1294  A great deal, and the batteries have a good li...        14  \n",
       "860   the car run just fine. I'm going to return thi...        29  \n",
       "\n",
       "[1871 rows x 5 columns]"
      ]
     },
     "execution_count": 13,
     "metadata": {},
     "output_type": "execute_result"
    }
   ],
   "source": [
    "train"
   ]
  },
  {
   "cell_type": "markdown",
   "id": "5146eabe",
   "metadata": {},
   "source": [
    "### 1.5 Construction du vocabulaire\n",
    "\n",
    "Dans un modèle Bag-of-Words (BoW), un vocabulaire est prédéterminé à partir de l'ensemble d'entraînement. Seuls les mots faisant partie de ce vocabulaire seront considérés pour la suite.\n",
    "\n",
    "Complétez la fonction **build_voc** qui retourne une liste de jetons qui sont présents au moins n fois (threshold passé en paramètre) dans la liste d'exemples (également passée en paramètre). Vous pouvez utiliser la classe Counter.\n",
    "\n",
    "Ensuite, appelez cette fonction pour construire votre vocabulaire."
   ]
  },
  {
   "cell_type": "code",
   "execution_count": 14,
   "id": "d0e901d6",
   "metadata": {},
   "outputs": [],
   "source": [
    "from collections import Counter \n",
    "\n",
    "def build_voc(documents, threshold):\n",
    "    vocabulary = Counter(documents.sum())\n",
    "    return [word for word, n_occurence in vocabulary.items() if n_occurence >= threshold]\n",
    "\n",
    "voc = build_voc(train[\"text\"], 2)"
   ]
  },
  {
   "cell_type": "markdown",
   "id": "e006f572",
   "metadata": {},
   "source": [
    "### 1.6 Vectorisation des données\n",
    "\n",
    "À l'aide de la classe [TfidfVectorizer](https://scikit-learn.org/stable/modules/generated/sklearn.feature_extraction.text.TfidfVectorizer.html) de Sklearn, transformez l'ensemble de jetons en matrice de co-occurence utilisant TF-IDF.\n",
    "\n",
    "Utilisez le vocabulaire construit au numéro précédent dans votre matrice de co-occurrence (voir le paramètre vocabulary de TfidfVectorizer). \n",
    "\n",
    "**Faites attention:** Il ne faut pas entrainer (fit) la vectorisation sur l'ensemble de test"
   ]
  },
  {
   "cell_type": "code",
   "execution_count": 15,
   "id": "54bdc303",
   "metadata": {},
   "outputs": [
    {
     "name": "stderr",
     "output_type": "stream",
     "text": [
      "C:\\Users\\azoua\\anaconda3\\Lib\\site-packages\\sklearn\\feature_extraction\\text.py:525: UserWarning: The parameter 'token_pattern' will not be used since 'tokenizer' is not None'\n",
      "  warnings.warn(\n"
     ]
    }
   ],
   "source": [
    "from sklearn.feature_extraction.text import TfidfVectorizer, CountVectorizer\n",
    "from sklearn.metrics import classification_report\n",
    "from sklearn.naive_bayes import MultinomialNB\n",
    "from sklearn.metrics import mean_squared_error\n",
    "\n",
    "vectorizer = TfidfVectorizer(tokenizer = lambda x: x, lowercase=False, vocabulary = voc)\n",
    "X_train = vectorizer.fit_transform(train[\"text\"])\n",
    "X_test = vectorizer.transform(test[\"text\"])\n",
    "\n",
    "y_train = train[\"rating\"]\n",
    "y_test = test[\"rating\"]"
   ]
  },
  {
   "cell_type": "markdown",
   "id": "f00781ca",
   "metadata": {},
   "source": [
    "## 2. Classification\n",
    "\n",
    "Maintenant que les données sont prêtes à être utilisées par nos modèles, nous allons entrainer et tester différent types de modèles sur le jeu de données afin d'en faire la comparaison. \n",
    "\n",
    "Cette section sera divisé en cinq modèle:\n",
    "   - Modèle aléatoire (Random baseline)\n",
    "   - Classificateur bayésien naïf\n",
    "   - Régression Logistique\n",
    "   - Multi-Layer Perceptron (MLP)\n",
    "\n",
    "### 2.1 Random baseline\n",
    "\n",
    "Un seuil (baseline) est un modèle servant de référence et dont les performances représentent un seuil à dépasser.\n",
    "\n",
    "Générez ce seuil en effectuant des prédictions aléatoires parmi les valeurs 1, 3 et 5.\n",
    "\n",
    "Ensuite, affichez les mesures de performance : précision, rappel (recall) et F1. "
   ]
  },
  {
   "cell_type": "code",
   "execution_count": 16,
   "id": "74b68a29",
   "metadata": {},
   "outputs": [],
   "source": [
    "from sklearn.metrics import classification_report\n",
    "from sklearn.metrics import mean_squared_error\n",
    "\n",
    "y_pred_random = np.random.choice([1,3,5], size=len(y_test))"
   ]
  },
  {
   "cell_type": "code",
   "execution_count": 17,
   "id": "f79530a0",
   "metadata": {
    "scrolled": false
   },
   "outputs": [
    {
     "name": "stdout",
     "output_type": "stream",
     "text": [
      "Résultats pour un Random baseline\n",
      "              precision    recall  f1-score   support\n",
      "\n",
      "           1     0.3059    0.3079    0.3069       302\n",
      "           3     0.3824    0.3472    0.3639       337\n",
      "           5     0.3173    0.3498    0.3328       283\n",
      "\n",
      "    accuracy                         0.3351       922\n",
      "   macro avg     0.3352    0.3350    0.3345       922\n",
      "weighted avg     0.3374    0.3351    0.3357       922\n",
      "\n"
     ]
    }
   ],
   "source": [
    "print(\"Résultats pour un Random baseline\")\n",
    "print(classification_report(y_test, y_pred_random, digits=4))"
   ]
  },
  {
   "cell_type": "markdown",
   "id": "b7070590",
   "metadata": {},
   "source": [
    "a) Comment pouvez-vous expliquer le F1-score obtenu?"
   ]
  },
  {
   "cell_type": "markdown",
   "id": "4b86cab6",
   "metadata": {},
   "source": [
    "> Oui, étant donné que les classes sont équilibrées, le résultat devrait être 1/3"
   ]
  },
  {
   "cell_type": "markdown",
   "id": "8eadb0d3",
   "metadata": {},
   "source": [
    "### 2.2 Analyse et compréhension d'un classificateur bayésien naïf (NB)\n",
    "\n",
    "Naive Bayes (NB) est un algorithme très simple pouvant servir de bon point de départ (baseline) pour les tâches de classification. Ce numéro portera sur l'analyse de ce modèle afin de bien comprendre son comportement."
   ]
  },
  {
   "cell_type": "markdown",
   "id": "0c04861f",
   "metadata": {},
   "source": [
    "#### 2.2.1 Construction du modèle\n",
    "\n",
    "Commencez d'abord par construire le modèle à l'aide de la classe MultinomialNB de SKlearn. Utilisez les données vectorisées produites en 1.6.\n",
    "\n",
    "Affichez les performances de votre classificateur (précision, recall, F1-score)."
   ]
  },
  {
   "cell_type": "code",
   "execution_count": 18,
   "id": "c90814a4",
   "metadata": {},
   "outputs": [],
   "source": [
    "from sklearn.naive_bayes import MultinomialNB\n",
    "\n",
    "nb_classifier = MultinomialNB()\n",
    "nb_classifier.fit(X_train, y_train)\n",
    "y_pred_nb = nb_classifier.predict(X_test)"
   ]
  },
  {
   "cell_type": "code",
   "execution_count": 19,
   "id": "6e4fecb0",
   "metadata": {
    "scrolled": true
   },
   "outputs": [
    {
     "name": "stdout",
     "output_type": "stream",
     "text": [
      "Résultats pour Classificateur bayésien naïf\n",
      "              precision    recall  f1-score   support\n",
      "\n",
      "           1     0.8624    0.8510    0.8567       302\n",
      "           3     0.7947    0.7122    0.7512       337\n",
      "           5     0.7702    0.8763    0.8198       283\n",
      "\n",
      "    accuracy                         0.8080       922\n",
      "   macro avg     0.8091    0.8132    0.8092       922\n",
      "weighted avg     0.8094    0.8080    0.8068       922\n",
      "\n"
     ]
    }
   ],
   "source": [
    "print(\"Résultats pour Classificateur bayésien naïf\")\n",
    "print(classification_report(y_test, y_pred_nb, digits=4))"
   ]
  },
  {
   "cell_type": "markdown",
   "id": "34a784a1",
   "metadata": {},
   "source": [
    "####  2.2.2 Matrice de confusion\n",
    "\n",
    "Visualisez la matrice de confusion de votre modèle en utilisant la fonction [heatmap](https://seaborn.pydata.org/generated/seaborn.heatmap.html) de seaborn. Celle-ci peut prendre en entrée une matrice de confusion comme celle fournie par la fonction [confusion_matrix](https://scikit-learn.org/stable/modules/generated/sklearn.metrics.confusion_matrix.html) dans SKLearn."
   ]
  },
  {
   "cell_type": "code",
   "execution_count": 20,
   "id": "a115ac85",
   "metadata": {
    "scrolled": true
   },
   "outputs": [
    {
     "data": {
      "text/plain": [
       "[Text(0, 0.5, '1'), Text(0, 1.5, '3'), Text(0, 2.5, '5')]"
      ]
     },
     "execution_count": 20,
     "metadata": {},
     "output_type": "execute_result"
    },
    {
     "data": {
      "image/png": "[encoded data removed]",
      "text/plain": [
       "<Figure size 640x480 with 2 Axes>"
      ]
     },
     "metadata": {},
     "output_type": "display_data"
    }
   ],
   "source": [
    "from sklearn.metrics import confusion_matrix\n",
    "\n",
    "import seaborn as sns\n",
    "\n",
    "ax= plt.subplot()\n",
    "sns.heatmap(confusion_matrix(y_test, y_pred_nb, labels=nb_classifier.classes_), annot=True, fmt='g', ax=ax)\n",
    "\n",
    "# labels, title and ticks\n",
    "ax.set_xlabel('Predicted labels');ax.set_ylabel('True labels')\n",
    "ax.set_title('Confusion Matrix')\n",
    "ax.xaxis.set_ticklabels(nb_classifier.classes_); ax.yaxis.set_ticklabels(nb_classifier.classes_)"
   ]
  },
  {
   "cell_type": "markdown",
   "id": "223d6c84",
   "metadata": {},
   "source": [
    "####  2.2.3 Visualisation des probabilités de NB\n",
    "\n",
    "Naive Bayes est un classificateur suivant une approche générative. Durant son entraînement, il apprend les probabilités P(x_i|y). En utilisant le théorème de Bayes, on peut exprimer la probabilité d'une classe donnée y étant donné un ensemble de caractéristiques x_1, x_2, ..., x_n comme suit : \n",
    "\n",
    "$$ P(y|x_1, x_2, ..., x_n) = P(y) * P(x_1|y) * P(x_2|y) * ... * P(x_n|y) $$\n",
    "\n",
    "Ainsi, étant donné un exemple ayant le jeton x_i, plus la probabilité P(x_i|y) est élevée pour une classe, plus la probabilité que l'exemple provienne de cette classe augmente.\n",
    "\n",
    "Écrivez du code permettant de visualiser les jetons ayant les plus grandes probabilités selon la classe dans un graphique de type [barh](https://matplotlib.org/3.1.1/api/_as_gen/matplotlib.pyplot.barh.html). Consultez la documentation de [MultiNomialNB](https://scikit-learn.org/stable/modules/generated/sklearn.naive_bayes.MultinomialNB.html) afin de trouver les probabilités P(x_i|y). Le graphique produit devrait avoir les 10 jetons associés au P(x_i|y) le plus grand selon y. L'axe des x devrait être la valeur des probabilités.\n",
    "\n",
    "Ce code devra être sous forme d'une fonction où on passe la classe y en paramètre.\n"
   ]
  },
  {
   "cell_type": "code",
   "execution_count": 21,
   "id": "eb219a46",
   "metadata": {
    "scrolled": false
   },
   "outputs": [
    {
     "data": {
      "image/png": "[encoded data removed]",
      "text/plain": [
       "<Figure size 1000x500 with 1 Axes>"
      ]
     },
     "metadata": {},
     "output_type": "display_data"
    }
   ],
   "source": [
    "import matplotlib.pyplot as plt\n",
    "\n",
    "\n",
    "features = (-nb_classifier.feature_log_prob_).argsort(axis=1)\n",
    "indices = vectorizer.get_feature_names_out()\n",
    "f = lambda x: indices[x]\n",
    "\n",
    "fig = plt.figure(figsize=(10, 5))\n",
    "\n",
    "def plot_features(y):\n",
    "\n",
    "    # creating the bar plot\n",
    "    plt.rcParams[\"figure.figsize\"] = (15,10)\n",
    "    plt.barh(f(features)[y-1,:10], np.exp(nb_classifier.feature_log_prob_[y-1][features[y-1,:10]]), color='maroon')\n",
    "\n",
    "    plt.xlabel(\"Probabilité P(x_i|y)\")\n",
    "    plt.ylabel(\"Mots\")\n",
    "    plt.title(f\"Top 10 des mots ayant les plus grands P(x_i|y) selon y={y}\")\n",
    "    plt.show()\n",
    "    \n",
    "plot_features(1)\n"
   ]
  },
  {
   "cell_type": "markdown",
   "id": "4600bf66",
   "metadata": {},
   "source": [
    "a) Les données que vous affichez ont-elles du sens? Comment pouvez-vous le valider?"
   ]
  },
  {
   "cell_type": "markdown",
   "id": "fa61bab3",
   "metadata": {},
   "source": [
    "> Oui, cela correspond avec les résultats de 1.3. C\"EST-A DIRE?"
   ]
  },
  {
   "cell_type": "markdown",
   "id": "00579fba",
   "metadata": {},
   "source": [
    "#### 2.2.4 Visualisation des erreurs commises\n",
    "\n",
    "Trouvez toutes les phrases dont la vraie valeur est 5 mais la valeur prédite est de 1.\n",
    "\n",
    "Affichez ces exemples d'une manière lisible.\n"
   ]
  },
  {
   "cell_type": "code",
   "execution_count": 44,
   "id": "c4fef76a",
   "metadata": {},
   "outputs": [],
   "source": [
    "bad_predictions = test[(y_test == 5) & (y_pred_nb == 1)]"
   ]
  },
  {
   "cell_type": "code",
   "execution_count": 45,
   "id": "f6118142",
   "metadata": {},
   "outputs": [
    {
     "name": "stdout",
     "output_type": "stream",
     "text": [
      "The batteries appear to be working great. I've been using two AA's in my Xbox .... The batteries appear to be working great. I've been using two AA's in my Xbox One controller for over a month now. If you can get a sale on these like I did, buy, buy, buy!\n",
      "\n",
      "Just as good as any other batteries on the shelf!. What can I say - they work and last just as good as any other brand I have tried. I bought various sizes from Amazon and they all work great - just make sure you buy in advance to have them on hand for when you need them instead of running to the store forking over a lot more money for the same performance - I did buy the 9 volt box to replace all my fire alarms in the house - PERFECT!\n",
      "\n",
      "For what they are, great buy!. It's not a high discharge battery, but for typical uses such wireless mouse and flashlights, these are great.\n",
      "\n",
      "They sure are batteries.... They're batteries and they come charged and ready to go, there is not much of a review you can write about batteries. They power my daughter's choo choo train set, so I'm content.\n",
      "\n",
      "Saved Me From Bear Attack. So... One day I was camping in the Wild West on the Rocky Mountains in Colorado... I was carrying my trusty Power Rangers limited edition collectors sword. Out of nowhere... A bear attacked me. I grabbed my trusty sword, but it was out of batteries so it did not make the swoosh sounds that adds to the effect of my swing. So I hurriedly went to my trusty AmazonBasics AA batteries, and switched out the ones in my Power Rangers sword. My swooshing sounds were amazing, and I escaped with my life (not my leg but that's okay). Thank you AmazonBasics AA Batteries for saving a life.\n",
      "\n",
      "Cheap and Work Great. I've been ordering these cheap batteries for years for my XBOX controllers. They are cheap and long lasting, and I'll never go back to picking up batteries at the store again.\n",
      "\n",
      "Thanks. I think most of the batteries I have in my house are now all AmazonBasics. These batteries are in all of our toys, gadgets, remotes and I have never had an issue. They last as long as expected.\n",
      "\n",
      "Best (AAA) Batteries for your Buck!. I prefer purchasing my batteries in bulk, so that I can buy them once and forget about them for the upcoming months (or year). AmazonBasics was, at the time of purchase, the most economical pack of AAA batteries.I haven't noticed any difference in time or quality of use. I don't use AAA batteries for many things, though, and for those that I do the items tend to last for quite some time on a pair of batteries, so I would not notice a change unless the batteries were really, really poor quality. Thankfully, they're not, and their price point made them a steal for me. These also store well - I have had no issues using some of these that my parents purchased years ago and they appear comparable to the pack I purchased recently.I've lately been really impressed with the quality of electronics that AmazonBasics offers. As store-brands go, this is among the first that has yet to disappoint me!\n",
      "\n",
      "Performance is right!. Excellent batteries! Even better than some name-brand overpriced ones we've bought\n",
      "\n",
      "Battery replenishment. Battery replenishment\n",
      "\n",
      "Interesting batteries. Felt tip marked the date. We'll .... Interesting batteries. Felt tip marked the date. We'll see if they hold up against the competition.Batteries arrived in just a couple of days.Spam arrived, too. Lots of it. Did not click on the links, but forwarded the spam to stop-spoofingamazon.com. It finally stopped.\n"
     ]
    }
   ],
   "source": [
    "print(\"\\n\\n\".join(bad_predictions[\"text_original\"]))"
   ]
  },
  {
   "cell_type": "markdown",
   "id": "cffb9d00",
   "metadata": {},
   "source": [
    "#### 2.2.5 Analyse d'erreurs commises"
   ]
  },
  {
   "cell_type": "markdown",
   "id": "204c7fff",
   "metadata": {},
   "source": [
    "Complétez la fonction plot_example qui:\n",
    "   - Prends en entrée une liste de jetons provenant d'un exemple. \n",
    "   - Produit un graphique qui pour chaque jeton, affiche la valeur P(x_i|y=5) et P(x_i|y=1)\n",
    "    \n",
    "**Pour vous faciliter le travail, utiliser barh de pandas et non de matplotlib**: https://pandas.pydata.org/docs/reference/api/pandas.DataFrame.plot.barh.html\n",
    "\n",
    "\n",
    "Utilisez la fonction avec une phrase au choix dont la vraie valeur est 5 mais la valeur prédite est de 1."
   ]
  },
  {
   "cell_type": "code",
   "execution_count": 24,
   "id": "0795de9d",
   "metadata": {},
   "outputs": [
    {
     "data": {
      "image/png": "[encoded data removed]",
      "text/plain": [
       "<Figure size 1500x1000 with 1 Axes>"
      ]
     },
     "metadata": {},
     "output_type": "display_data"
    }
   ],
   "source": [
    "def plot_example(words):\n",
    "    word_to_index = {n: i for i, n in enumerate(vectorizer.get_feature_names_out())}\n",
    "    words = list(set([word for word in words if word in word_to_index]))\n",
    "    indices = [word_to_index[word] for word in words ]\n",
    "\n",
    "    rating_1_ = np.exp(nb_classifier.feature_log_prob_[0][indices])\n",
    "    rating_2_ = np.exp(nb_classifier.feature_log_prob_[2][indices])\n",
    "    index = words\n",
    "    df = pd.DataFrame({'P(x_i|y=1)': rating_1_,\n",
    "                        'P(x_i|y=5)': rating_2_}, index=index)\n",
    "    ax = df.plot.barh(title=f\"Word probabilities for sentence misclassified as 1 star instead of 5\", figsize=(15,10))\n",
    "\n",
    "plot_example(bad_predictions.iloc[3][\"text\"])"
   ]
  },
  {
   "cell_type": "markdown",
   "id": "b2984273",
   "metadata": {},
   "source": [
    "a) Suite à cette analyse, pouvez-vous voir une tendance dans les exemples qui sont prédits comme faisant partie de la classe 1 mais faisant réellement partie de la classe 5 ?"
   ]
  },
  {
   "cell_type": "markdown",
   "id": "856cc027",
   "metadata": {},
   "source": [
    ">  Oui, le jeton batteri est souvent présent dans les exemples mal classifiés"
   ]
  },
  {
   "cell_type": "markdown",
   "id": "40f0f9a6",
   "metadata": {},
   "source": [
    "### 2.3 Régression logistique\n",
    "\n",
    "Entrainez un modèle de [régression logistique](https://scikit-learn.org/stable/modules/generated/sklearn.linear_model.LogisticRegression.html) à l'aide de SKLearn en utilisant les données produites en 1.6 et affichez sa performance avec les mêmes métriques que précédemment. "
   ]
  },
  {
   "cell_type": "code",
   "execution_count": 25,
   "id": "c7c91797",
   "metadata": {},
   "outputs": [],
   "source": [
    "from sklearn.linear_model import LogisticRegression\n",
    "\n",
    "\n",
    "lr_classifier = LogisticRegression()\n",
    "lr_classifier.fit(X_train, y_train)\n",
    "y_pred_lr = lr_classifier.predict(X_test)\n",
    "\n"
   ]
  },
  {
   "cell_type": "code",
   "execution_count": 26,
   "id": "dce0ff9f",
   "metadata": {},
   "outputs": [
    {
     "name": "stdout",
     "output_type": "stream",
     "text": [
      "Résultats pour Régression Logistique\n",
      "              precision    recall  f1-score   support\n",
      "\n",
      "           1     0.8885    0.8709    0.8796       302\n",
      "           3     0.7906    0.7953    0.7929       337\n",
      "           5     0.8293    0.8410    0.8351       283\n",
      "\n",
      "    accuracy                         0.8341       922\n",
      "   macro avg     0.8361    0.8357    0.8359       922\n",
      "weighted avg     0.8345    0.8341    0.8342       922\n",
      "\n"
     ]
    }
   ],
   "source": [
    "print(\"Résultats pour Régression Logistique\")\n",
    "print(classification_report(y_test, y_pred_lr, digits=4))"
   ]
  },
  {
   "cell_type": "markdown",
   "id": "727658f6",
   "metadata": {},
   "source": [
    "## 2.3 MLP\n",
    "\n",
    "Entrainez un modèle neuronal de type [Multi-layer Perceptron classifier](https://scikit-learn.org/stable/modules/generated/sklearn.neural_network.MLPClassifier.html) à l'aide de SKLearn en utilisant les données produites en 1.6. Affichez sa performance avec les mêmes métriques que précédemment. "
   ]
  },
  {
   "cell_type": "code",
   "execution_count": 27,
   "id": "b44f3fd5",
   "metadata": {},
   "outputs": [
    {
     "name": "stderr",
     "output_type": "stream",
     "text": [
      "C:\\Users\\azoua\\anaconda3\\Lib\\site-packages\\sklearn\\neural_network\\_multilayer_perceptron.py:691: ConvergenceWarning: Stochastic Optimizer: Maximum iterations (50) reached and the optimization hasn't converged yet.\n",
      "  warnings.warn(\n"
     ]
    }
   ],
   "source": [
    "from sklearn.neural_network import MLPRegressor\n",
    "from sklearn.neural_network import MLPClassifier\n",
    "\n",
    "mlp = MLPClassifier(random_state=1, max_iter=50)\n",
    "mlp.fit(X_train, y_train)\n",
    "y_pred_mlp = mlp.predict(X_test)\n",
    "\n"
   ]
  },
  {
   "cell_type": "code",
   "execution_count": 28,
   "id": "4e71cb73",
   "metadata": {},
   "outputs": [
    {
     "name": "stdout",
     "output_type": "stream",
     "text": [
      "Résultats pour MLP\n",
      "              precision    recall  f1-score   support\n",
      "\n",
      "           1     0.8608    0.8808    0.8707       302\n",
      "           3     0.7934    0.7864    0.7899       337\n",
      "           5     0.8315    0.8198    0.8256       283\n",
      "\n",
      "    accuracy                         0.8275       922\n",
      "   macro avg     0.8286    0.8290    0.8287       922\n",
      "weighted avg     0.8272    0.8275    0.8273       922\n",
      "\n"
     ]
    }
   ],
   "source": [
    "print(\"Résultats pour MLP\")\n",
    "print(classification_report(y_test, y_pred_mlp, digits=4))"
   ]
  },
  {
   "cell_type": "markdown",
   "id": "21b383b9",
   "metadata": {},
   "source": [
    "## 3. Amélioration de modèle\n",
    "\n",
    "Cette dernière partie consistera à améliorer votre modèle de deux façons différentes.\n",
    "\n",
    "Tout d'abord, vous effectuerez une recherche d'hyper-paramètres avec une validation croisée en utilisant une grille de recherche (GridSearch). Ensuite, vous réaliserez de l'extraction d'attributs (feature extraction) afin d'entraîner un nouveau modèle en utilisant ces hyper-paramètres optimaux.\n",
    "\n",
    "###  3.1 Recherche d'hyper-paramètres et validation croisée\n",
    "\n",
    "La classe [GridSearchCV](https://scikit-learn.org/stable/modules/generated/sklearn.model_selection.GridSearchCV.html) permet d'explorer toutes les combinaisons possibles d'hyper-paramètres que l'on spécifie afin de trouver la configuration optimale. De plus, il est tout à fait possible de fusionner les paramètres du pré-traitement et ceux du classificateur en utilisant la classe [Pipeline](https://scikit-learn.org/stable/modules/generated/sklearn.pipeline.Pipeline.html).\n",
    "\n",
    "Pour la rédaction de votre code, vous avez la possibilité de vous référer au tutoriel du cours.\n",
    "\n",
    "Dans cette phase, l'objectif est de découvrir une configuration optimale pour le modèle LogisticRegression en conjonction avec la technique de vectorisation TF-IDF. Cette recherche devra être guidée par la métrique du F1-score pondéré (weighted F1). Vous devrez aussi effectuer une exploration de paramètres sur au moins deux attributs liés à TF-IDF et deux paramètres de la régression logistique.\n",
    "\n",
    "Affichez ensuite la performance finale du modèle optimal ainsi que ses paramètres."
   ]
  },
  {
   "cell_type": "code",
   "execution_count": 29,
   "id": "5d1121d8",
   "metadata": {
    "scrolled": true
   },
   "outputs": [
    {
     "name": "stderr",
     "output_type": "stream",
     "text": [
      "C:\\Users\\azoua\\anaconda3\\Lib\\site-packages\\sklearn\\model_selection\\_validation.py:425: FitFailedWarning: \n",
      "30 fits failed out of a total of 60.\n",
      "The score on these train-test partitions for these parameters will be set to nan.\n",
      "If these failures are not expected, you can try to debug them by setting error_score='raise'.\n",
      "\n",
      "Below are more details about the failures:\n",
      "--------------------------------------------------------------------------------\n",
      "30 fits failed with the following error:\n",
      "Traceback (most recent call last):\n",
      "  File \"C:\\Users\\azoua\\anaconda3\\Lib\\site-packages\\sklearn\\model_selection\\_validation.py\", line 732, in _fit_and_score\n",
      "    estimator.fit(X_train, y_train, **fit_params)\n",
      "  File \"C:\\Users\\azoua\\anaconda3\\Lib\\site-packages\\sklearn\\base.py\", line 1151, in wrapper\n",
      "    return fit_method(estimator, *args, **kwargs)\n",
      "           ^^^^^^^^^^^^^^^^^^^^^^^^^^^^^^^^^^^^^^\n",
      "  File \"C:\\Users\\azoua\\anaconda3\\Lib\\site-packages\\sklearn\\pipeline.py\", line 420, in fit\n",
      "    self._final_estimator.fit(Xt, y, **fit_params_last_step)\n",
      "  File \"C:\\Users\\azoua\\anaconda3\\Lib\\site-packages\\sklearn\\base.py\", line 1151, in wrapper\n",
      "    return fit_method(estimator, *args, **kwargs)\n",
      "           ^^^^^^^^^^^^^^^^^^^^^^^^^^^^^^^^^^^^^^\n",
      "  File \"C:\\Users\\azoua\\anaconda3\\Lib\\site-packages\\sklearn\\linear_model\\_logistic.py\", line 1168, in fit\n",
      "    solver = _check_solver(self.solver, self.penalty, self.dual)\n",
      "             ^^^^^^^^^^^^^^^^^^^^^^^^^^^^^^^^^^^^^^^^^^^^^^^^^^^\n",
      "  File \"C:\\Users\\azoua\\anaconda3\\Lib\\site-packages\\sklearn\\linear_model\\_logistic.py\", line 56, in _check_solver\n",
      "    raise ValueError(\n",
      "ValueError: Solver lbfgs supports only 'l2' or 'none' penalties, got l1 penalty.\n",
      "\n",
      "  warnings.warn(some_fits_failed_message, FitFailedWarning)\n",
      "C:\\Users\\azoua\\anaconda3\\Lib\\site-packages\\sklearn\\model_selection\\_search.py:976: UserWarning: One or more of the test scores are non-finite: [       nan        nan 0.81621449 0.834068          nan        nan\n",
      " 0.79703781 0.83194235        nan        nan 0.79086551 0.82919522]\n",
      "  warnings.warn(\n",
      "C:\\Users\\azoua\\anaconda3\\Lib\\site-packages\\sklearn\\feature_extraction\\text.py:525: UserWarning: The parameter 'token_pattern' will not be used since 'tokenizer' is not None'\n",
      "  warnings.warn(\n"
     ]
    },
    {
     "name": "stdout",
     "output_type": "stream",
     "text": [
      "Résultats pour Régression Logistique\n",
      "              precision    recall  f1-score   support\n",
      "\n",
      "           1     0.9178    0.8874    0.9024       302\n",
      "           3     0.8232    0.8012    0.8120       337\n",
      "           5     0.8245    0.8799    0.8513       283\n",
      "\n",
      "    accuracy                         0.8536       922\n",
      "   macro avg     0.8552    0.8562    0.8552       922\n",
      "weighted avg     0.8546    0.8536    0.8537       922\n",
      "\n",
      "\n",
      "Meilleur parameters\n",
      "{'logreg__C': 0.1, 'logreg__penalty': 'l2', 'tfidf__ngram_range': (1, 2)}\n"
     ]
    }
   ],
   "source": [
    "from sklearn.feature_extraction.text import TfidfVectorizer, CountVectorizer\n",
    "from sklearn.pipeline import Pipeline\n",
    "from sklearn.metrics import f1_score, make_scorer\n",
    "from sklearn.model_selection import GridSearchCV\n",
    "from sklearn.neural_network import MLPClassifier\n",
    "\n",
    "\n",
    "\n",
    "\n",
    "X_train_grid = [\" \".join(s) for s in train[\"text\"].tolist()]\n",
    "X_test_grid = [\" \".join(s) for s in test[\"text\"].tolist()]\n",
    "\n",
    "\n",
    "param_grid = {    'tfidf__ngram_range': [(1, 1), (1, 2)],   \n",
    "                    'logreg__C': [0.1, 1, 10],                  \n",
    "                    'logreg__penalty': ['l1', 'l2']  \n",
    "             }\n",
    "\n",
    "pipe = Pipeline([('tfidf', TfidfVectorizer(smooth_idf=True, norm=None, tokenizer=lambda x: x.split(\" \"))), \n",
    "                 ('logreg', LogisticRegression())])\n",
    "\n",
    "f1 = make_scorer(f1_score , average='weighted')\n",
    "\n",
    "grid = GridSearchCV(pipe, cv=5,scoring=f1, param_grid=param_grid, n_jobs=-1)\n",
    "grid.fit(X_train_grid, y_train)\n",
    "logreg2_preds = grid.predict(X_test_grid)\n",
    "\n",
    "print(\"Résultats pour Régression Logistique\")\n",
    "print(classification_report(y_test, logreg2_preds, digits=4))\n",
    "\n",
    "print()\n",
    "print(\"Meilleur parameters\")\n",
    "print(grid.best_params_)"
   ]
  },
  {
   "cell_type": "markdown",
   "id": "dc91d718",
   "metadata": {},
   "source": [
    "a) Quels sont les attributs que vous avez choisis et quels sont leurs valeurs optimales?"
   ]
  },
  {
   "cell_type": "markdown",
   "id": "9b34bc1c",
   "metadata": {},
   "source": [
    "> Description des paramètres"
   ]
  },
  {
   "cell_type": "markdown",
   "id": "e541be45",
   "metadata": {},
   "source": [
    "###  3.2 Extraction d'attributs (Feature extraction) avec ChatGPT\n",
    "\n",
    "ChatGPT peut être très utile pour donner des idées ou donner du squelette de code. Afin de prouver cela, demandez à ChatGPT de générer du code permettant d'extraire des attributs (feature extraction) à partir du texte des évaluations.\n",
    "\n",
    "En utilisant ChatGPT ainsi que votre recherche personnelle, essayez de déterminer un ensemble d'attributs que vous pourriez utiliser pour représenter chaque évaluation. Indiquez dans la cellule ci-dessous les descriptions d'attributs suggérées par ChatGPT ainsi que les vôtres. Différenciez clairement vos attributs - s'il y en a - de ceux de ChatGPT.\n"
   ]
  },
  {
   "cell_type": "markdown",
   "id": "f0d9ac3f",
   "metadata": {},
   "source": [
    "> *Entrez votre réponse ici*"
   ]
  },
  {
   "cell_type": "markdown",
   "id": "39beb713",
   "metadata": {},
   "source": [
    "Indiquez ci-dessous le code généré par ChatGPT que vous avez décidé de conserver pour représenter chaque évaluation. Implémentez ces attributs sous forme de fonction qui vous retourne, pour un document, un dictionnaire d'attributs et de leurs valeurs. N'oubliez pas d'indiquer votre propre code s'il y en a."
   ]
  },
  {
   "cell_type": "code",
   "execution_count": null,
   "id": "90a73ddd",
   "metadata": {},
   "outputs": [],
   "source": []
  },
  {
   "cell_type": "markdown",
   "id": "9ebb4523",
   "metadata": {},
   "source": [
    "Il se peut que le code généré ait besoin d'être adapté à notre jeu de données. Si c'est le cas, corrigez le code et affichez la version avant et après vos correction."
   ]
  },
  {
   "cell_type": "code",
   "execution_count": 30,
   "id": "2843cbc8",
   "metadata": {
    "scrolled": true
   },
   "outputs": [
    {
     "name": "stderr",
     "output_type": "stream",
     "text": [
      "[nltk_data] Downloading package punkt to\n",
      "[nltk_data]     C:\\Users\\azoua\\AppData\\Roaming\\nltk_data...\n",
      "[nltk_data]   Package punkt is already up-to-date!\n",
      "[nltk_data] Downloading package vader_lexicon to\n",
      "[nltk_data]     C:\\Users\\azoua\\AppData\\Roaming\\nltk_data...\n",
      "[nltk_data]   Package vader_lexicon is already up-to-date!\n"
     ]
    },
    {
     "name": "stdout",
     "output_type": "stream",
     "text": [
      "{'word_count': 11, 'sentence_count': 2, 'average_word_length': 6.2727272727272725, 'sentiment_label': 1, 'sentiment_polarity': 0.65, 'sentiment_subjectivity': 1.0, 'grammar_errors': 0, 'sentence_structure': 0, 'review_length': 0}\n"
     ]
    }
   ],
   "source": [
    "\n",
    "import nltk\n",
    "from nltk.sentiment import SentimentIntensityAnalyzer\n",
    "from textblob import TextBlob\n",
    "import re\n",
    "from datetime import datetime\n",
    "\n",
    "nltk.download('punkt')\n",
    "nltk.download('vader_lexicon')\n",
    "\n",
    "def extract_textual_features(review_text):\n",
    "    # Textual features\n",
    "    word_count = len(review_text.split())\n",
    "    sentence_count = len(nltk.sent_tokenize(review_text))\n",
    "    average_word_length = sum(len(word) for word in review_text.split()) / word_count\n",
    "    \n",
    "    # Sentiment features\n",
    "    sia = SentimentIntensityAnalyzer()\n",
    "    sentiment_scores = sia.polarity_scores(review_text)\n",
    "    sentiment_label = 1 if sentiment_scores['compound'] > 0 else 0 if sentiment_scores['compound'] < 0 else 0.5\n",
    "    \n",
    "    tb_blob = TextBlob(review_text)\n",
    "    sentiment_polarity = tb_blob.sentiment.polarity\n",
    "    sentiment_subjectivity = tb_blob.sentiment.subjectivity\n",
    "        \n",
    "    # Language and structure features\n",
    "    grammar_errors = len(re.findall(r'\\b[a-zA-Z]+(?<![a-zA-Z])', review_text))\n",
    "    sentence_structure = 1 if len(nltk.word_tokenize(review_text)) / sentence_count > 20 else 0\n",
    "    \n",
    "    # User interaction features\n",
    "    review_length = 0 if word_count <= 50 else 0.5 if 50 < word_count <= 200 else 1\n",
    "    \n",
    "    # Contextual features\n",
    "    \n",
    "    # Return the extracted features as a dictionary\n",
    "    features = {\n",
    "        'word_count': word_count,\n",
    "        'sentence_count': sentence_count,\n",
    "        'average_word_length': average_word_length,\n",
    "        'sentiment_label': sentiment_label,\n",
    "        'sentiment_polarity': sentiment_polarity,\n",
    "        'sentiment_subjectivity': sentiment_subjectivity,\n",
    "        'grammar_errors': grammar_errors,\n",
    "        'sentence_structure': sentence_structure,\n",
    "        'review_length': review_length,\n",
    "    }\n",
    "    \n",
    "    return features\n",
    "\n",
    "# Example usage\n",
    "review_text = \"This product exceeded my expectations. I'm very satisfied with its performance.\"\n",
    "review_title = \"Great product!\"\n",
    "rating = \"5\"\n",
    "review_date = \"2023-08-15\"\n",
    "verified_purchase = \"Yes\"\n",
    "\n",
    "features = extract_textual_features(review_text)\n",
    "print(features)\n"
   ]
  },
  {
   "cell_type": "markdown",
   "id": "518c6c20",
   "metadata": {},
   "source": [
    "Utilisez votre code ci-dessus pour entrainer un modèle avec votre nouvelle représentation des évaluations. Affichez sa performance."
   ]
  },
  {
   "cell_type": "code",
   "execution_count": 37,
   "id": "e18c6b02",
   "metadata": {},
   "outputs": [
    {
     "name": "stderr",
     "output_type": "stream",
     "text": [
      "C:\\Users\\azoua\\anaconda3\\Lib\\site-packages\\sklearn\\neural_network\\_multilayer_perceptron.py:691: ConvergenceWarning: Stochastic Optimizer: Maximum iterations (200) reached and the optimization hasn't converged yet.\n",
      "  warnings.warn(\n"
     ]
    }
   ],
   "source": [
    "\n",
    "from sklearn.model_selection import train_test_split\n",
    "from sklearn.feature_extraction.text import CountVectorizer\n",
    "from sklearn.preprocessing import StandardScaler\n",
    "from sklearn.linear_model import LogisticRegression\n",
    "from sklearn.metrics import accuracy_score\n",
    "\n",
    "train_features = train[\"text_original\"].apply(extract_textual_features)\n",
    "test_features = test[\"text_original\"].apply(extract_textual_features)\n",
    "\n",
    "X_train_features = pd.DataFrame(train_features.tolist())\n",
    "X_test_features = pd.DataFrame(test_features.tolist())\n",
    "\n",
    "# Standardize the feature values\n",
    "scaler = StandardScaler()\n",
    "X_train_scaled = scaler.fit_transform(X_train_features)\n",
    "X_test_scaled = scaler.transform(X_test_features)\n",
    "\n",
    "\n",
    "# Train a Logistic Regression classifier\n",
    "feature_classifier = MLPClassifier(random_state=1, max_iter=200)\n",
    "feature_classifier.fit(X_train_scaled, y_train)\n",
    "\n",
    "# Make predictions on the test set\n",
    "y_pred_feature = feature_classifier.predict(X_test_scaled)\n"
   ]
  },
  {
   "cell_type": "code",
   "execution_count": 38,
   "id": "187ee1c5",
   "metadata": {},
   "outputs": [
    {
     "name": "stdout",
     "output_type": "stream",
     "text": [
      "Performance with extracted features\n",
      "              precision    recall  f1-score   support\n",
      "\n",
      "           1     0.7669    0.7517    0.7592       302\n",
      "           3     0.5791    0.5104    0.5426       337\n",
      "           5     0.6535    0.7597    0.7026       283\n",
      "\n",
      "    accuracy                         0.6659       922\n",
      "   macro avg     0.6665    0.6739    0.6681       922\n",
      "weighted avg     0.6635    0.6659    0.6627       922\n",
      "\n"
     ]
    }
   ],
   "source": [
    "print(\"Performance with extracted features\")\n",
    "print(classification_report(y_test, y_pred_feature, digits=4))"
   ]
  },
  {
   "cell_type": "markdown",
   "id": "ce4bf76e",
   "metadata": {},
   "source": [
    "### 3.3 Amélioration du modèle en 3.2\n",
    "\n",
    "Il est possible que les résultats obtenus au numéro précédent ne soient pas très élevés. Trouvez une manière d'utiliser ces attributs avec d'autres éléments afin d'obtenir une meilleure performance que n'importe quel score obtenu au numéro 2.x , **sans faire de recherche d'hyper-paramètres**. Vous êtes libres d'utiliser n'importe quel algorithme utilisé dans ce laboratoire. Affichez le code et les performances de votre modèle."
   ]
  },
  {
   "cell_type": "code",
   "execution_count": 39,
   "id": "9541ae91",
   "metadata": {},
   "outputs": [
    {
     "name": "stderr",
     "output_type": "stream",
     "text": [
      "C:\\Users\\azoua\\anaconda3\\Lib\\site-packages\\sklearn\\neural_network\\_multilayer_perceptron.py:691: ConvergenceWarning: Stochastic Optimizer: Maximum iterations (50) reached and the optimization hasn't converged yet.\n",
      "  warnings.warn(\n"
     ]
    }
   ],
   "source": [
    "X_train_all = np.concatenate((X_train_scaled, X_train.toarray()), axis=1)\n",
    "X_test_all = np.concatenate((X_test_scaled, X_test.toarray()), axis=1)\n",
    "\n",
    "# Train a MLP classifier\n",
    "feature_classifier_2 = MLPClassifier(random_state=1, max_iter=50)\n",
    "feature_classifier_2.fit(X_train_all, y_train)\n",
    "\n",
    "y_pred_feature_2 = feature_classifier_2.predict(X_test_all)\n",
    "\n"
   ]
  },
  {
   "cell_type": "code",
   "execution_count": 40,
   "id": "a785791f",
   "metadata": {},
   "outputs": [
    {
     "name": "stdout",
     "output_type": "stream",
     "text": [
      "Votre algorithme\n",
      "              precision    recall  f1-score   support\n",
      "\n",
      "           1     0.8904    0.8874    0.8889       302\n",
      "           3     0.8048    0.7953    0.8000       337\n",
      "           5     0.8403    0.8551    0.8476       283\n",
      "\n",
      "    accuracy                         0.8438       922\n",
      "   macro avg     0.8451    0.8459    0.8455       922\n",
      "weighted avg     0.8437    0.8438    0.8437       922\n",
      "\n"
     ]
    }
   ],
   "source": [
    "print(\"Votre algorithme\")\n",
    "print(classification_report(y_test, y_pred_feature_2, digits=4))"
   ]
  },
  {
   "cell_type": "markdown",
   "id": "f21566d5",
   "metadata": {},
   "source": [
    "a) Quelles sont vos conclusions concernant l'utilisation de ChatGPT et les représentations possibles des documents ?"
   ]
  },
  {
   "cell_type": "markdown",
   "id": "29c8a8a9",
   "metadata": {},
   "source": [
    "> Son utilisation peut être très utile, surtout pour explorer des solutions, construire un squelette. Par contre, Il faut adapter le code à notre jeu de données\n",
    "BOW difficile à battre"
   ]
  },
  {
   "cell_type": "markdown",
   "id": "fa2b28b4",
   "metadata": {},
   "source": [
    "## LIVRABLES:\n",
    "Vous devez remettre sur Moodle un zip contenant les fichiers suivants :\n",
    "\n",
    "1-\tLe code : Vous devez compléter le squelette inf8460_tp1.ipynb sous le nom   equipe_i_inf8460_TP1.ipynb (i = votre numéro d’équipe). Indiquez vos noms et matricules au début du notebook. Ce notebook doit contenir les fonctionnalités requises avec des commentaires appropriés. Le code doit être exécutable sans erreur et accompagné de commentaires appropriés de manière à expliquer les différentes fonctions. Les critères de qualité tels que la lisibilité du code et des commentaires sont importants. Tout votre code et vos résultats doivent être exécutables et reproductibles ; \n",
    "\n",
    "2-\tUn fichier html représentant votre notebook complètement exécuté sous format html\n",
    "\n",
    "\n",
    "## EVALUATION \n",
    "Votre TP sera évalué selon les critères suivants :\n",
    "\n",
    "1. Exécution correcte du code\n",
    "2. Qualité du code (noms significatifs, structure, performance, gestion d’exception, etc.)\n",
    "3. Commentaires clairs et informatifs\n",
    "4. Performance attendue des modèles\n",
    "5. Effort effectué dans la recherche d'autres types d'attributs et dans l'utilisation de ChatGPT\n",
    "6. Réponses correctes/sensées aux questions de réflexion ou d'analyse\n",
    " \n"
   ]
  }
 ],
 "metadata": {
  "kernelspec": {
   "display_name": "Python 3 (ipykernel)",
   "language": "python",
   "name": "python3"
  },
  "language_info": {
   "codemirror_mode": {
    "name": "ipython",
    "version": 3
   },
   "file_extension": ".py",
   "mimetype": "text/x-python",
   "name": "python",
   "nbconvert_exporter": "python",
   "pygments_lexer": "ipython3",
   "version": "3.11.4"
  }
 },
 "nbformat": 4,
 "nbformat_minor": 5
}
